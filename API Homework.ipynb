{
 "cells": [
  {
   "cell_type": "markdown",
   "metadata": {},
   "source": [
    "# Exercise 1"
   ]
  },
  {
   "cell_type": "code",
   "execution_count": 1,
   "metadata": {
    "collapsed": true
   },
   "outputs": [],
   "source": [
    "import quandl"
   ]
  },
  {
   "cell_type": "code",
   "execution_count": 2,
   "metadata": {
    "collapsed": true
   },
   "outputs": [],
   "source": [
    "with open(\"key.txt\", \"r\") as f:\n",
    "    key = f.read()"
   ]
  },
  {
   "cell_type": "code",
   "execution_count": 8,
   "metadata": {},
   "outputs": [
    {
     "data": {
      "text/html": [
       "<div>\n",
       "<style>\n",
       "    .dataframe thead tr:only-child th {\n",
       "        text-align: right;\n",
       "    }\n",
       "\n",
       "    .dataframe thead th {\n",
       "        text-align: left;\n",
       "    }\n",
       "\n",
       "    .dataframe tbody tr th {\n",
       "        vertical-align: top;\n",
       "    }\n",
       "</style>\n",
       "<table border=\"1\" class=\"dataframe\">\n",
       "  <thead>\n",
       "    <tr style=\"text-align: right;\">\n",
       "      <th></th>\n",
       "      <th>Value</th>\n",
       "    </tr>\n",
       "    <tr>\n",
       "      <th>Date</th>\n",
       "      <th></th>\n",
       "    </tr>\n",
       "  </thead>\n",
       "  <tbody>\n",
       "    <tr>\n",
       "      <th>1977-12-31</th>\n",
       "      <td>0.942778</td>\n",
       "    </tr>\n",
       "    <tr>\n",
       "      <th>1978-12-31</th>\n",
       "      <td>0.975823</td>\n",
       "    </tr>\n",
       "    <tr>\n",
       "      <th>1979-12-31</th>\n",
       "      <td>1.077300</td>\n",
       "    </tr>\n",
       "    <tr>\n",
       "      <th>1980-12-31</th>\n",
       "      <td>1.224179</td>\n",
       "    </tr>\n",
       "    <tr>\n",
       "      <th>1981-12-31</th>\n",
       "      <td>1.188159</td>\n",
       "    </tr>\n",
       "  </tbody>\n",
       "</table>\n",
       "</div>"
      ],
      "text/plain": [
       "               Value\n",
       "Date                \n",
       "1977-12-31  0.942778\n",
       "1978-12-31  0.975823\n",
       "1979-12-31  1.077300\n",
       "1980-12-31  1.224179\n",
       "1981-12-31  1.188159"
      ]
     },
     "execution_count": 8,
     "metadata": {},
     "output_type": "execute_result"
    }
   ],
   "source": [
    "data1 = quandl.get(\"WORLDBANK/ARM_TOT\", authtoken=key)\n",
    "data1.head()"
   ]
  },
  {
   "cell_type": "code",
   "execution_count": 10,
   "metadata": {},
   "outputs": [
    {
     "data": {
      "text/html": [
       "<div>\n",
       "<style>\n",
       "    .dataframe thead tr:only-child th {\n",
       "        text-align: right;\n",
       "    }\n",
       "\n",
       "    .dataframe thead th {\n",
       "        text-align: left;\n",
       "    }\n",
       "\n",
       "    .dataframe tbody tr th {\n",
       "        vertical-align: top;\n",
       "    }\n",
       "</style>\n",
       "<table border=\"1\" class=\"dataframe\">\n",
       "  <thead>\n",
       "    <tr style=\"text-align: right;\">\n",
       "      <th></th>\n",
       "      <th>Value</th>\n",
       "    </tr>\n",
       "    <tr>\n",
       "      <th>Date</th>\n",
       "      <th></th>\n",
       "    </tr>\n",
       "  </thead>\n",
       "  <tbody>\n",
       "    <tr>\n",
       "      <th>1960-12-31</th>\n",
       "      <td>1.134161</td>\n",
       "    </tr>\n",
       "    <tr>\n",
       "      <th>1961-12-31</th>\n",
       "      <td>1.085041</td>\n",
       "    </tr>\n",
       "    <tr>\n",
       "      <th>1962-12-31</th>\n",
       "      <td>1.058667</td>\n",
       "    </tr>\n",
       "    <tr>\n",
       "      <th>1963-12-31</th>\n",
       "      <td>1.045383</td>\n",
       "    </tr>\n",
       "    <tr>\n",
       "      <th>1964-12-31</th>\n",
       "      <td>1.046499</td>\n",
       "    </tr>\n",
       "  </tbody>\n",
       "</table>\n",
       "</div>"
      ],
      "text/plain": [
       "               Value\n",
       "Date                \n",
       "1960-12-31  1.134161\n",
       "1961-12-31  1.085041\n",
       "1962-12-31  1.058667\n",
       "1963-12-31  1.045383\n",
       "1964-12-31  1.046499"
      ]
     },
     "execution_count": 10,
     "metadata": {},
     "output_type": "execute_result"
    }
   ],
   "source": [
    "data2 = quandl.get(\"WORLDBANK/LUX_TOT\", authtoken=key)\n",
    "data2.head()"
   ]
  },
  {
   "cell_type": "code",
   "execution_count": 11,
   "metadata": {
    "collapsed": true
   },
   "outputs": [],
   "source": [
    "import matplotlib.pyplot as plt\n",
    "%matplotlib inline"
   ]
  },
  {
   "cell_type": "code",
   "execution_count": 13,
   "metadata": {},
   "outputs": [
    {
     "data": {
      "image/png": "[encoded data removed]",
      "text/plain": [
       "<matplotlib.figure.Figure at 0xbc8e588>"
      ]
     },
     "metadata": {},
     "output_type": "display_data"
    }
   ],
   "source": [
    "plt.plot(data1, \"g\")\n",
    "plt.plot(data2, \"r\")\n",
    "plt.show()"
   ]
  },
  {
   "cell_type": "markdown",
   "metadata": {},
   "source": [
    "# Exercise 2"
   ]
  },
  {
   "cell_type": "code",
   "execution_count": 16,
   "metadata": {},
   "outputs": [
    {
     "name": "stdout",
     "output_type": "stream",
     "text": [
      "Armenia second highest value = 1.22417921215\n"
     ]
    }
   ],
   "source": [
    "data=data1.sort_values(by='Value', ascending=0)\n",
    "second=data['Value'][1]\n",
    "print 'Armenia second highest value = ' + str(second)"
   ]
  },
  {
   "cell_type": "markdown",
   "metadata": {},
   "source": [
    "# Exercise 3"
   ]
  },
  {
   "cell_type": "code",
   "execution_count": 20,
   "metadata": {},
   "outputs": [
    {
     "data": {
      "image/png": "[encoded data removed]",
      "text/plain": [
       "<matplotlib.figure.Figure at 0xbb9d588>"
      ]
     },
     "metadata": {},
     "output_type": "display_data"
    }
   ],
   "source": [
    "import_am = quandl.get('WTO/MERCH_IMP_ARM',authtoken=key)\n",
    "export_am = quandl.get('WTO/MERCH_EXP_ARM',authtoken=key)\n",
    "net=export_am-import_am\n",
    "plt.plot(net)\n",
    "plt.show()"
   ]
  },
  {
   "cell_type": "markdown",
   "metadata": {},
   "source": [
    "# Exercise 4"
   ]
  },
  {
   "cell_type": "code",
   "execution_count": 22,
   "metadata": {},
   "outputs": [
    {
     "name": "stdout",
     "output_type": "stream",
     "text": [
      "                EOD/V - Close  EOD/KO - Close  EOD/VZ - Close\n",
      "EOD/V - Close        1.000000       -0.363071       -0.102121\n",
      "EOD/KO - Close      -0.363071        1.000000        0.375513\n",
      "EOD/VZ - Close      -0.102121        0.375513        1.000000\n"
     ]
    }
   ],
   "source": [
    "stocks=quandl.get(['EOD/V','EOD/KO','EOD/VZ'],trim_start=\"2013-07-15\",column_index=4, authtoken=key)\n",
    "correlation=stocks.corr()\n",
    "print(correlation)"
   ]
  },
  {
   "cell_type": "markdown",
   "metadata": {},
   "source": [
    "# Exercise 5"
   ]
  },
  {
   "cell_type": "code",
   "execution_count": 23,
   "metadata": {
    "collapsed": true
   },
   "outputs": [],
   "source": [
    "import googlemaps\n",
    "from datetime import datetime"
   ]
  },
  {
   "cell_type": "code",
   "execution_count": 25,
   "metadata": {},
   "outputs": [],
   "source": [
    "with open(\"api.txt\",\"r\") as f:\n",
    "    key=f.read()\n",
    "gmaps=googlemaps.Client(key)"
   ]
  },
  {
   "cell_type": "code",
   "execution_count": 51,
   "metadata": {
    "scrolled": true
   },
   "outputs": [
    {
     "name": "stdout",
     "output_type": "stream",
     "text": [
      "The distance from Burlington, VT to New York, NY is \u001b[1m480 km\u001b[0m\n",
      "The distance from Waitsfield, VT to New York, NY is \u001b[1m538 km\u001b[0m\n",
      "The distance from Montpelier, VT to New York, NY is \u001b[1m509 km\u001b[0m\n",
      "The distance from Washington, DC to New York, NY is \u001b[1m362 km\u001b[0m\n",
      "The distance from Manchester, NH to New York, NY is \u001b[1m403 km\u001b[0m\n",
      "The distance from Los Angeles, CA to New York, NY is \u001b[1m4,501 km\u001b[0m\n",
      "The distance from Glendale, CA to New York, NY is \u001b[1m4,500 km\u001b[0m\n",
      "The distance from Dallas, TX to New York, NY is \u001b[1m2,492 km\u001b[0m\n",
      "The distance from Chicago, IL to New York, NY is \u001b[1m1,283 km\u001b[0m\n",
      "The distance from Syracuse, NY to New York, NY is \u001b[1m409 km\u001b[0m\n"
     ]
    }
   ],
   "source": [
    "city_list=[]\n",
    "cities = ['Burlington, VT', 'Waitsfield, VT', 'Montpelier, VT', 'Washington, DC', 'Manchester, NH', 'Los Angeles, CA', 'Glendale, CA', 'Dallas, TX', 'Chicago, IL', 'Syracuse, NY']\n",
    "for i in cities:\n",
    "    distance=gmaps.directions(i,\"New York, NY\", units=\"metric\") \n",
    "    city_list.append(distance[0]['legs'][0]['distance'])\n",
    "for i in range(0,len(city_list)):\n",
    "    print(\"The distance from \" +  cities[i] + \" to\" + \" New York, NY\" + \" is \" + '\\033[1m' + city_list[i][\"text\"] + '\\033[0m')"
   ]
  },
  {
   "cell_type": "code",
   "execution_count": null,
   "metadata": {
    "collapsed": true
   },
   "outputs": [],
   "source": []
  }
 ],
 "metadata": {
  "kernelspec": {
   "display_name": "Python 2",
   "language": "python",
   "name": "python2"
  },
  "language_info": {
   "codemirror_mode": {
    "name": "ipython",
    "version": 2
   },
   "file_extension": ".py",
   "mimetype": "text/x-python",
   "name": "python",
   "nbconvert_exporter": "python",
   "pygments_lexer": "ipython2",
   "version": "2.7.13"
  }
 },
 "nbformat": 4,
 "nbformat_minor": 2
}
